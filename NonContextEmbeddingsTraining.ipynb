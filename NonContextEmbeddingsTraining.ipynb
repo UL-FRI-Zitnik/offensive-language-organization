{
 "cells": [
  {
   "cell_type": "code",
   "execution_count": 20,
   "source": [
    "# import modules & set up logging\n",
    "from gensim.models import Word2Vec, FastText\n",
    "import gensim, logging\n",
    "logging.basicConfig(format='%(asctime)s : %(levelname)s : %(message)s', level=logging.INFO)\n",
    " \n",
    "import re\n",
    "import stanza\n",
    "stanza.download('en', processors='tokenize')\n",
    "nlp = stanza.Pipeline('en', processors='tokenize')"
   ],
   "outputs": [
    {
     "output_type": "stream",
     "name": "stderr",
     "text": [
      "Downloading https://raw.githubusercontent.com/stanfordnlp/stanza-resources/main/resources_1.2.2.json: 139kB [00:00, 6.12MB/s]                    \n",
      "2021-07-17 23:05:52,153 : INFO : Downloading these customized packages for language: en (English)...\n",
      "========================\n",
      "| Processor | Package  |\n",
      "------------------------\n",
      "| tokenize  | combined |\n",
      "========================\n",
      "\n",
      "2021-07-17 23:05:52,158 : INFO : File exists: /Users/slavkoz/stanza_resources/en/tokenize/combined.pt.\n",
      "2021-07-17 23:05:52,159 : INFO : Finished downloading models and saved to /Users/slavkoz/stanza_resources.\n",
      "2021-07-17 23:05:52,165 : INFO : Loading these models for language: en (English):\n",
      "========================\n",
      "| Processor | Package  |\n",
      "------------------------\n",
      "| tokenize  | combined |\n",
      "========================\n",
      "\n",
      "2021-07-17 23:05:52,170 : INFO : Use device: cpu\n",
      "2021-07-17 23:05:52,209 : INFO : Loading: tokenize\n",
      "2021-07-17 23:05:52,246 : INFO : Done loading processors!\n"
     ]
    }
   ],
   "metadata": {}
  },
  {
   "cell_type": "code",
   "execution_count": 42,
   "source": [
    "class OffensiveSentences(object):\n",
    "    def __init__(self):\n",
    "        pass\n",
    " \n",
    "    def __iter__(self):\n",
    "        def special_chars_or_punctuation_only(word):\n",
    "            word = re.sub('[^a-zA-Z:]', '', word)          # Remove punctuations\n",
    "            word = re.sub(\"(\\\\d|\\\\W)+\",\"\",word)            # remove special characters and digits\n",
    "            return len(word) == 0\n",
    "\n",
    "        for line in open(os.path.join('./full_textOnly_cleaned_dataset.csv'), encoding=\"utf-8\"):\n",
    "            line = re.sub('\\n', '', line)\n",
    "            print(f\"ORIGINAL: '{line}'\")            \n",
    "            line = line.lower()                             # Convert to lowercase\n",
    "            line = re.sub(r'\\s+',' ', line)                  # Remove duplicated whitespaces\n",
    "            processed_line = [word.text for sentence in nlp(line).sentences for word in sentence.words if not special_chars_or_punctuation_only(word.text)]            \n",
    "            print(f\"PROCESSED: '{processed_line}'\")\n",
    "            yield processed_line\n",
    " \n",
    "sentences = OffensiveSentences() # a memory-friendly iterator"
   ],
   "outputs": [],
   "metadata": {}
  },
  {
   "cell_type": "code",
   "execution_count": null,
   "source": [
    "model = Word2Vec(sentences, min_count=2, vector_size=50, workers=4)"
   ],
   "outputs": [],
   "metadata": {}
  },
  {
   "cell_type": "code",
   "execution_count": null,
   "source": [
    "model.save('w2v_50dim_model_v2')\n",
    "new_model = gensim.models.Word2Vec.load('w2v_50dim_model_v2')"
   ],
   "outputs": [],
   "metadata": {}
  },
  {
   "cell_type": "code",
   "execution_count": null,
   "source": [
    "model.most_similar(positive=['woman', 'king'], negative=['man'], topn=1)"
   ],
   "outputs": [],
   "metadata": {}
  },
  {
   "cell_type": "code",
   "execution_count": null,
   "source": [
    "model.doesnt_match(\"breakfast cereal dinner lunch\".split())"
   ],
   "outputs": [],
   "metadata": {}
  },
  {
   "cell_type": "code",
   "execution_count": null,
   "source": [
    "model.similarity('woman', 'man')"
   ],
   "outputs": [],
   "metadata": {}
  },
  {
   "cell_type": "code",
   "execution_count": null,
   "source": [
    "model['computer']"
   ],
   "outputs": [],
   "metadata": {}
  },
  {
   "cell_type": "code",
   "execution_count": null,
   "source": [
    "model.wv.most_similar('computer', topn=10)"
   ],
   "outputs": [],
   "metadata": {}
  },
  {
   "cell_type": "code",
   "execution_count": null,
   "source": [
    "model = FastText(sentences, min_count=2, vector_size=50, workers=4)\n",
    "model.save('fastText_50dim_model_v2')"
   ],
   "outputs": [],
   "metadata": {}
  }
 ],
 "metadata": {
  "kernelspec": {
   "display_name": "Python 3",
   "language": "python",
   "name": "python3"
  },
  "language_info": {
   "codemirror_mode": {
    "name": "ipython",
    "version": 3
   },
   "file_extension": ".py",
   "mimetype": "text/x-python",
   "name": "python",
   "nbconvert_exporter": "python",
   "pygments_lexer": "ipython3",
   "version": "3.8.3"
  }
 },
 "nbformat": 4,
 "nbformat_minor": 2
}