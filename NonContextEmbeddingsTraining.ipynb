{
 "cells": [
  {
   "cell_type": "code",
   "execution_count": 1,
   "metadata": {},
   "outputs": [
    {
     "name": "stderr",
     "output_type": "stream",
     "text": [
      "/home/slavkoz/anaconda3/envs/offensive-language-organization/lib/python3.6/site-packages/gensim/similarities/__init__.py:15: UserWarning: The gensim.similarities.levenshtein submodule is disabled, because the optional Levenshtein package <https://pypi.org/project/python-Levenshtein/> is unavailable. Install Levenhstein (e.g. `pip install python-Levenshtein`) to suppress this warning.\n",
      "  warnings.warn(msg)\n"
     ]
    },
    {
     "data": {
      "application/vnd.jupyter.widget-view+json": {
       "model_id": "5a289937e3ab4f139ac2053d21b26cbc",
       "version_major": 2,
       "version_minor": 0
      },
      "text/plain": [
       "Downloading https://raw.githubusercontent.com/stanfordnlp/stanza-resources/main/resources_1.2.2.json:   0%|   …"
      ]
     },
     "metadata": {},
     "output_type": "display_data"
    },
    {
     "name": "stderr",
     "output_type": "stream",
     "text": [
      "2021-08-25 11:14:42,820 : INFO : Downloading these customized packages for language: en (English)...\n",
      "========================\n",
      "| Processor | Package  |\n",
      "------------------------\n",
      "| tokenize  | combined |\n",
      "========================\n",
      "\n",
      "2021-08-25 11:14:42,822 : INFO : File exists: /home/slavkoz/stanza_resources/en/tokenize/combined.pt.\n",
      "2021-08-25 11:14:42,822 : INFO : Finished downloading models and saved to /home/slavkoz/stanza_resources.\n",
      "2021-08-25 11:14:42,825 : INFO : Loading these models for language: en (English):\n",
      "========================\n",
      "| Processor | Package  |\n",
      "------------------------\n",
      "| tokenize  | combined |\n",
      "========================\n",
      "\n",
      "2021-08-25 11:14:42,832 : INFO : Use device: gpu\n",
      "2021-08-25 11:14:42,833 : INFO : Loading: tokenize\n",
      "2021-08-25 11:14:44,111 : INFO : Done loading processors!\n"
     ]
    }
   ],
   "source": [
    "# import modules & set up logging\n",
    "from gensim.models import Word2Vec, FastText\n",
    "import gensim, logging\n",
    "logging.basicConfig(format='%(asctime)s : %(levelname)s : %(message)s', level=logging.INFO)\n",
    " \n",
    "import os\n",
    "import re\n",
    "import stanza\n",
    "import pandas as pd\n",
    "stanza.download('en', processors='tokenize')\n",
    "nlp = stanza.Pipeline('en', processors='tokenize')"
   ]
  },
  {
   "cell_type": "code",
   "execution_count": null,
   "metadata": {},
   "outputs": [],
   "source": [
    "class OffensiveSentences(object):\n",
    "    def __init__(self):\n",
    "        pass\n",
    " \n",
    "    def __iter__(self):\n",
    "        def special_chars_or_punctuation_only(word):\n",
    "            word = re.sub('[^a-zA-Z:]', '', word)          # Remove punctuations\n",
    "            word = re.sub(\"(\\\\d|\\\\W)+\",\"\",word)            # remove special characters and digits\n",
    "            return len(word) == 0\n",
    "\n",
    "        def process_line(line):\n",
    "            line = re.sub('\\n', '', line)\n",
    "            #print(f\"ORIGINAL: '{line}'\")            \n",
    "            line = line.lower()                             # Convert to lowercase\n",
    "            line = re.sub(r'\\s+',' ', line)                  # Remove duplicated whitespaces\n",
    "            processed_line = [word.text for sentence in nlp(line).sentences for word in sentence.words if not special_chars_or_punctuation_only(word.text)]            \n",
    "            #print(f\"PROCESSED: '{processed_line}'\")\n",
    "            return processed_line\n",
    "        \n",
    "        #v2\n",
    "        for line in open(os.path.join('outputs/full_textOnly_cleaned_dataset.csv'), encoding=\"utf-8\"):\n",
    "            processed_line = process_line(line)\n",
    "            yield processed_line\n",
    "        \n",
    "        #v3 \n",
    "        #for index, row in pd.read_csv(\"full_classification_dataset.csv\").iterrows():\n",
    "        #    line = row[\"text\"]\n",
    "        #    label = row[\"label\"]\n",
    "        #    line = str(label) + \" - \" + str(line) + \" - \" + str(label)\n",
    "        #    processed_line = process_line(line)\n",
    "        #    yield processed_line\n",
    "            \n",
    "            \n",
    "        \n",
    " \n",
    "sentences = OffensiveSentences() # a memory-friendly iterator"
   ]
  },
  {
   "cell_type": "code",
   "execution_count": null,
   "metadata": {},
   "outputs": [],
   "source": [
    "#v2: vector_size=50, window=5, min_count=2\n",
    "#v3: vector_size=25, window=10, min_count=2"
   ]
  },
  {
   "cell_type": "code",
   "execution_count": null,
   "metadata": {},
   "outputs": [],
   "source": [
    "#model = Word2Vec(sentences, min_count=2, vector_size=25, workers=16, window=10)\n",
    "#model.save('outputs/w2v_25dim_model_v3')"
   ]
  },
  {
   "cell_type": "code",
   "execution_count": null,
   "metadata": {},
   "outputs": [],
   "source": [
    "#new_model = gensim.models.Word2Vec.load('outputs/w2v_25dim_model_v3')\n",
    "#model.most_similar(positive=['woman', 'king'], negative=['man'], topn=1)"
   ]
  },
  {
   "cell_type": "code",
   "execution_count": null,
   "metadata": {},
   "outputs": [],
   "source": [
    "#model.doesnt_match(\"breakfast cereal dinner lunch\".split())"
   ]
  },
  {
   "cell_type": "code",
   "execution_count": null,
   "metadata": {},
   "outputs": [],
   "source": [
    "#model.similarity('woman', 'man')"
   ]
  },
  {
   "cell_type": "code",
   "execution_count": null,
   "metadata": {},
   "outputs": [],
   "source": [
    "#model['computer']"
   ]
  },
  {
   "cell_type": "code",
   "execution_count": null,
   "metadata": {},
   "outputs": [],
   "source": [
    "#model.wv.most_similar('computer', topn=10)"
   ]
  },
  {
   "cell_type": "code",
   "execution_count": null,
   "metadata": {},
   "outputs": [],
   "source": [
    "#model = FastText(sentences, min_count=2, vector_size=50, workers=16, window=5)\n",
    "#model.save('outputs/fastText_50dim_model_v2')"
   ]
  },
  {
   "cell_type": "code",
   "execution_count": 6,
   "metadata": {},
   "outputs": [
    {
     "name": "stderr",
     "output_type": "stream",
     "text": [
      "2021-08-25 11:20:35,621 : INFO : loading FastText object from fastText_25dim_model_v3\n",
      "2021-08-25 11:20:35,697 : INFO : loading wv recursively from fastText_25dim_model_v3.wv.* with mmap=None\n",
      "2021-08-25 11:20:35,698 : INFO : loading vectors_ngrams from fastText_25dim_model_v3.wv.vectors_ngrams.npy with mmap=None\n",
      "2021-08-25 11:20:35,737 : INFO : setting ignored attribute vectors to None\n",
      "2021-08-25 11:20:35,737 : INFO : setting ignored attribute buckets_word to None\n",
      "2021-08-25 11:20:53,729 : INFO : setting ignored attribute cum_table to None\n",
      "2021-08-25 11:20:55,838 : INFO : FastText lifecycle event {'fname': 'fastText_25dim_model_v3', 'datetime': '2021-08-25T11:20:55.838275', 'gensim': '4.0.1', 'python': '3.6.13 |Anaconda, Inc.| (default, Jun  4 2021, 14:25:59) \\n[GCC 7.5.0]', 'platform': 'Linux-5.8.0-63-generic-x86_64-with-debian-bullseye-sid', 'event': 'loaded'}\n"
     ]
    },
    {
     "name": "stdout",
     "output_type": "stream",
     "text": [
      "FastText(vocab=211545, vector_size=25, alpha=0.025)\n"
     ]
    }
   ],
   "source": [
    "model = FastText.load('outputs/fastText_25dim_model_v3')\n",
    "print(model)"
   ]
  },
  {
   "cell_type": "code",
   "execution_count": 7,
   "metadata": {},
   "outputs": [
    {
     "data": {
      "text/plain": [
       "[('computer\\\\', 0.9696457386016846),\n",
       " ('computer_disk', 0.9380817413330078),\n",
       " ('runepage', 0.9254323244094849),\n",
       " ('bleepincomputer', 0.9182687401771545),\n",
       " ('bestcomputerrepair', 0.9131919741630554),\n",
       " ('compute', 0.9131872653961182),\n",
       " ('computerfreak', 0.9091835021972656),\n",
       " ('paperback', 0.9020154476165771),\n",
       " ('supercomputer', 0.9000276923179626),\n",
       " ('retail', 0.8920693397521973)]"
      ]
     },
     "execution_count": 7,
     "metadata": {},
     "output_type": "execute_result"
    }
   ],
   "source": [
    "model.wv.most_similar('computer', topn=10)"
   ]
  },
  {
   "cell_type": "code",
   "execution_count": null,
   "metadata": {},
   "outputs": [],
   "source": []
  }
 ],
 "metadata": {
  "kernelspec": {
   "display_name": "Python [conda env:offensive-language-organization]",
   "language": "python",
   "name": "conda-env-offensive-language-organization-py"
  },
  "language_info": {
   "codemirror_mode": {
    "name": "ipython",
    "version": 3
   },
   "file_extension": ".py",
   "mimetype": "text/x-python",
   "name": "python",
   "nbconvert_exporter": "python",
   "pygments_lexer": "ipython3",
   "version": "3.6.13"
  }
 },
 "nbformat": 4,
 "nbformat_minor": 4
}
