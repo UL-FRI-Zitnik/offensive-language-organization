{
 "cells": [
  {
   "cell_type": "code",
   "execution_count": null,
   "metadata": {},
   "outputs": [],
   "source": [
    "# import modules & set up logging\n",
    "from gensim.models import Word2Vec, FastText\n",
    "import gensim, logging\n",
    "logging.basicConfig(format='%(asctime)s : %(levelname)s : %(message)s', level=logging.INFO)\n",
    " \n",
    "import os\n",
    "import re\n",
    "import stanza\n",
    "stanza.download('en', processors='tokenize')\n",
    "nlp = stanza.Pipeline('en', processors='tokenize')"
   ]
  },
  {
   "cell_type": "code",
   "execution_count": null,
   "metadata": {},
   "outputs": [],
   "source": [
    "class OffensiveSentences(object):\n",
    "    def __init__(self):\n",
    "        pass\n",
    " \n",
    "    def __iter__(self):\n",
    "        def special_chars_or_punctuation_only(word):\n",
    "            word = re.sub('[^a-zA-Z:]', '', word)          # Remove punctuations\n",
    "            word = re.sub(\"(\\\\d|\\\\W)+\",\"\",word)            # remove special characters and digits\n",
    "            return len(word) == 0\n",
    "\n",
    "        for line in open(os.path.join('./full_textOnly_cleaned_dataset.csv'), encoding=\"utf-8\"):\n",
    "            line = re.sub('\\n', '', line)\n",
    "            #print(f\"ORIGINAL: '{line}'\")            \n",
    "            line = line.lower()                             # Convert to lowercase\n",
    "            line = re.sub(r'\\s+',' ', line)                  # Remove duplicated whitespaces\n",
    "            processed_line = [word.text for sentence in nlp(line).sentences for word in sentence.words if not special_chars_or_punctuation_only(word.text)]            \n",
    "            #print(f\"PROCESSED: '{processed_line}'\")\n",
    "            yield processed_line\n",
    " \n",
    "sentences = OffensiveSentences() # a memory-friendly iterator"
   ]
  },
  {
   "cell_type": "code",
   "execution_count": null,
   "metadata": {},
   "outputs": [],
   "source": [
    "model = Word2Vec(sentences, min_count=2, vector_size=50, workers=16)"
   ]
  },
  {
   "cell_type": "code",
   "execution_count": null,
   "metadata": {},
   "outputs": [],
   "source": [
    "model.save('w2v_50dim_model_v2')\n",
    "new_model = gensim.models.Word2Vec.load('w2v_50dim_model_v2')"
   ]
  },
  {
   "cell_type": "code",
   "execution_count": null,
   "metadata": {},
   "outputs": [],
   "source": [
    "model.most_similar(positive=['woman', 'king'], negative=['man'], topn=1)"
   ]
  },
  {
   "cell_type": "code",
   "execution_count": null,
   "metadata": {},
   "outputs": [],
   "source": [
    "model.doesnt_match(\"breakfast cereal dinner lunch\".split())"
   ]
  },
  {
   "cell_type": "code",
   "execution_count": null,
   "metadata": {},
   "outputs": [],
   "source": [
    "model.similarity('woman', 'man')"
   ]
  },
  {
   "cell_type": "code",
   "execution_count": null,
   "metadata": {},
   "outputs": [],
   "source": [
    "model['computer']"
   ]
  },
  {
   "cell_type": "code",
   "execution_count": null,
   "metadata": {},
   "outputs": [],
   "source": [
    "model.wv.most_similar('computer', topn=10)"
   ]
  },
  {
   "cell_type": "code",
   "execution_count": null,
   "metadata": {},
   "outputs": [],
   "source": [
    "model = FastText(sentences, min_count=2, vector_size=50, workers=4)\n",
    "model.save('fastText_50dim_model_v2')"
   ]
  },
  {
   "cell_type": "code",
   "execution_count": null,
   "metadata": {},
   "outputs": [],
   "source": []
  },
  {
   "cell_type": "code",
   "execution_count": null,
   "metadata": {},
   "outputs": [],
   "source": []
  },
  {
   "cell_type": "code",
   "execution_count": null,
   "metadata": {},
   "outputs": [],
   "source": []
  }
 ],
 "metadata": {
  "kernelspec": {
   "display_name": "Python 3",
   "language": "python",
   "name": "python3"
  },
  "language_info": {
   "codemirror_mode": {
    "name": "ipython",
    "version": 3
   },
   "file_extension": ".py",
   "mimetype": "text/x-python",
   "name": "python",
   "nbconvert_exporter": "python",
   "pygments_lexer": "ipython3",
   "version": "3.8.5"
  }
 },
 "nbformat": 4,
 "nbformat_minor": 4
}
