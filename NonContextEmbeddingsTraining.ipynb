{
 "cells": [
  {
   "cell_type": "code",
   "execution_count": null,
   "source": [
    "# import modules & set up logging\n",
    "import gensim, logging\n",
    "logging.basicConfig(format='%(asctime)s : %(levelname)s : %(message)s', level=logging.INFO)\n",
    " "
   ],
   "outputs": [],
   "metadata": {}
  },
  {
   "cell_type": "code",
   "execution_count": null,
   "source": [
    "class OffensiveSentences(object):\n",
    "    def __init__(self):\n",
    "        pass\n",
    " \n",
    "    def __iter__(self):\n",
    "        for line in open(os.path.join('./full_textOnly_cleaned_dataset.csv')):\n",
    "            yield line.split()\n",
    " \n",
    "sentences = OffensiveSentences() # a memory-friendly iterator"
   ],
   "outputs": [],
   "metadata": {}
  },
  {
   "cell_type": "code",
   "execution_count": null,
   "source": [
    "model = Word2Vec(sentences, min_count=2, size=50, workers=4)"
   ],
   "outputs": [],
   "metadata": {}
  },
  {
   "cell_type": "code",
   "execution_count": null,
   "source": [
    "model.save('w2v_5dim_model')\n",
    "new_model = gensim.models.Word2Vec.load('w2v_5dim_model')"
   ],
   "outputs": [],
   "metadata": {}
  },
  {
   "cell_type": "code",
   "execution_count": null,
   "source": [
    "model.most_similar(positive=['woman', 'king'], negative=['man'], topn=1)"
   ],
   "outputs": [],
   "metadata": {}
  },
  {
   "cell_type": "code",
   "execution_count": null,
   "source": [
    "model.doesnt_match(\"breakfast cereal dinner lunch\".split())"
   ],
   "outputs": [],
   "metadata": {}
  },
  {
   "cell_type": "code",
   "execution_count": null,
   "source": [
    "model.similarity('woman', 'man')"
   ],
   "outputs": [],
   "metadata": {}
  },
  {
   "cell_type": "code",
   "execution_count": null,
   "source": [
    "model['computer']"
   ],
   "outputs": [],
   "metadata": {}
  },
  {
   "cell_type": "code",
   "execution_count": null,
   "source": [
    "model.wv.most_similar('computer', topn=10)"
   ],
   "outputs": [],
   "metadata": {}
  }
 ],
 "metadata": {
  "orig_nbformat": 4,
  "language_info": {
   "name": "python"
  }
 },
 "nbformat": 4,
 "nbformat_minor": 2
}