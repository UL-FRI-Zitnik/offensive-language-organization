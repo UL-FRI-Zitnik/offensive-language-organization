{
 "cells": [
  {
   "cell_type": "code",
   "execution_count": 1,
   "metadata": {},
   "outputs": [
    {
     "name": "stderr",
     "output_type": "stream",
     "text": [
      "/home/slavkoz/anaconda3/envs/offensive-language-organization/lib/python3.6/site-packages/gensim/similarities/__init__.py:15: UserWarning: The gensim.similarities.levenshtein submodule is disabled, because the optional Levenshtein package <https://pypi.org/project/python-Levenshtein/> is unavailable. Install Levenhstein (e.g. `pip install python-Levenshtein`) to suppress this warning.\n",
      "  warnings.warn(msg)\n"
     ]
    },
    {
     "name": "stdout",
     "output_type": "stream",
     "text": [
      "4.0.1\n",
      "You are using Python 3.6.\n"
     ]
    }
   ],
   "source": [
    "import gensim\n",
    "import gensim.downloader\n",
    "from gensim.models import Word2Vec\n",
    "from sklearn.manifold import TSNE\n",
    "from sklearn.manifold import MDS\n",
    "from sklearn.decomposition import PCA\n",
    "import numpy as np\n",
    "import tempfile\n",
    "import imageio\n",
    "import shutil\n",
    "import os\n",
    "from statistics import mean\n",
    "import pandas as pd \n",
    "from nltk.stem import WordNetLemmatizer \n",
    "from nltk.stem import PorterStemmer \n",
    "from gensim.test.utils import datapath\n",
    "from gensim.models.fasttext import load_facebook_vectors\n",
    "from gensim.models import FastText\n",
    "\n",
    "from IPython.display import Image\n",
    "from IPython.display import display\n",
    "pd.options.display.max_columns = None\n",
    "import seaborn as sns\n",
    "from itertools import combinations\n",
    "\n",
    "import matplotlib.patheffects as PathEffects\n",
    "import matplotlib.pyplot as plt\n",
    "import matplotlib.cm as cm\n",
    "%matplotlib inline\n",
    "import sys\n",
    "from matplotlib.axes._axes import _log as matplotlib_axes_logger\n",
    "matplotlib_axes_logger.setLevel('ERROR')\n",
    "print(gensim.__version__)\n",
    "print(\"You are using Python {}.{}.\".format(sys.version_info.major, sys.version_info.minor))"
   ]
  },
  {
   "cell_type": "markdown",
   "metadata": {},
   "source": [
    "### Constants"
   ]
  },
  {
   "cell_type": "code",
   "execution_count": 2,
   "metadata": {},
   "outputs": [],
   "source": [
    "DATASETS_FOLDER = \"/Users/slavkoz/OneDrive - Univerza v Ljubljani/Datasets/Offensive language datasets/PROCESSED_DATA/\"\n",
    "\n",
    "TOP_N = 30\n",
    "KEYS = { \\\n",
    "   \"metaphor\": set(),\n",
    "   \"simile\": set(), \n",
    "   \"irony\": set(), \n",
    "   \"sarcasm\": set(), \n",
    "   \"comparison\": set(), \n",
    " #  \"contrast\": set(), \n",
    "   \"overstatement\": set(), \n",
    "   \"understatement\": set(),\n",
    "   \"exaggeration\": set(),\n",
    " #  \"indirectness\": set(),\n",
    " #  \"indirection\": set()\n",
    "        \n",
    "#   \"rather\": set(),\n",
    "#   \"truly\": set(),\n",
    "#   \"indeed\": set(),\n",
    "#   \"real\": set(),\n",
    "#   \"always\": set(),\n",
    "#   \"indeed\": set(),\n",
    "#   \"never\": set(),\n",
    "#   \"clearly\": set(),\n",
    "#   \"certainly\": set(),\n",
    "#   \"definitely\": set(),\n",
    "#   \"evidently\": set(),\n",
    "#   \"obviously\": set(),\n",
    "#   \"really\": set(),\n",
    "#   \"brilliant\": set(),\n",
    "#   \"absolute\": set(),\n",
    "#   \"genius\": set(),\n",
    "#   \"miracle\": set()\n",
    "        \n",
    "# test 2023-02-27\n",
    "#\"OFFENSIVE\".lower(): set(),\n",
    "#\"VULGAR\".lower(): set(),\n",
    "#\"INSULT\".lower(): set(),\n",
    "#\"HATESPEECH\".lower(): set(),\n",
    "#\"DISCREDIT\".lower(): set(),\n",
    "#\"THREAT\".lower(): set(),\n",
    "#\"RACIST\".lower(): set(),\n",
    "#\"XENOPHOBIC\".lower(): set(),\n",
    "#\"HOMOPHOBIC\".lower(): set(),\n",
    "#\"SEXIST\".lower(): set(),\n",
    "#\"MYSOGYNIC\".lower(): set(),\n",
    "#\"PROFANE\".lower(): set(),\n",
    "#\"AGEISM\".lower(): set(),\n",
    "#\"PHYSICAL_DISABIITIES\".lower(): set(),\n",
    "#\"MENTAL_DISABILITIES\".lower(): set(),\n",
    "#\"SOCIAL_CLASS\".lower(): set(),\n",
    "#\"CLASSISM\".lower(): set(),\n",
    "#\"IDEOLOGISM\".lower(): set(),\n",
    "#\"RHETORICAL_QUESTIONS\".lower(): set(),\n",
    "#\"METAPHOR\".lower(): set(),\n",
    "#\"SIMILE\".lower(): set(),\n",
    "#\"IRONY\".lower(): set(),\n",
    "#\"EXAGGERATION\".lower(): set()\n",
    "}\n",
    "FIXED_KEYS = list(KEYS.keys())"
   ]
  },
  {
   "cell_type": "code",
   "execution_count": 3,
   "metadata": {},
   "outputs": [
    {
     "name": "stdout",
     "output_type": "stream",
     "text": [
      "['metaphor', 'simile', 'irony', 'sarcasm', 'comparison', 'overstatement', 'understatement', 'exaggeration']\n"
     ]
    }
   ],
   "source": [
    "print(FIXED_KEYS)"
   ]
  },
  {
   "cell_type": "code",
   "execution_count": null,
   "metadata": {},
   "outputs": [],
   "source": []
  },
  {
   "cell_type": "markdown",
   "metadata": {},
   "source": [
    "Too similar words that will not be taken into account as neighbouring words:"
   ]
  },
  {
   "cell_type": "code",
   "execution_count": 4,
   "metadata": {},
   "outputs": [
    {
     "data": {
      "text/plain": [
       "{'metaphor': {'metaphor'},\n",
       " 'simile': {'simil', 'simile'},\n",
       " 'irony': {'ironi', 'irony'},\n",
       " 'sarcasm': {'sarcasm'},\n",
       " 'comparison': {'comparison'},\n",
       " 'overstatement': {'overstat', 'overstatement'},\n",
       " 'understatement': {'understat', 'understatement'},\n",
       " 'exaggeration': {'exagger', 'exaggeration'}}"
      ]
     },
     "execution_count": 4,
     "metadata": {},
     "output_type": "execute_result"
    }
   ],
   "source": [
    "lemmatizer = WordNetLemmatizer() \n",
    "ps = PorterStemmer() \n",
    "\n",
    "\n",
    "for key in KEYS.keys():\n",
    "    lemma = lemmatizer.lemmatize(key)\n",
    "    stem = ps.stem(key)\n",
    "    KEYS[key].add(lemma)\n",
    "    KEYS[key].add(stem)\n",
    "    KEYS[key].add(key)\n",
    "KEYS"
   ]
  },
  {
   "cell_type": "markdown",
   "metadata": {},
   "source": [
    "### Functions"
   ]
  },
  {
   "cell_type": "code",
   "execution_count": 5,
   "metadata": {},
   "outputs": [],
   "source": [
    "def same_word(similar_word, ommit_words):\n",
    "    similar_word = similar_word.replace(\"_\", \" \").replace(\"-\", \" \").lower()\n",
    "    \n",
    "    if similar_word in ommit_words:\n",
    "        print(f\"{ommit_words} -- {similar_word}\")\n",
    "        return True\n",
    "    \n",
    "    for ommit_word in ommit_words:\n",
    "        if ommit_word in similar_word:\n",
    "            print(f\"{ommit_words} -- {similar_word}\")\n",
    "            return True\n",
    "        \n",
    "    return False"
   ]
  },
  {
   "cell_type": "code",
   "execution_count": 6,
   "metadata": {},
   "outputs": [],
   "source": [
    "def getSimilarWords(model_gn):\n",
    "    embedding_clusters = []\n",
    "    word_clusters = []\n",
    "    for key in FIXED_KEYS:\n",
    "        ommit_words = KEYS[key]\n",
    "        embeddings = []\n",
    "        words = []\n",
    "        for similar_word, _ in model_gn.wv.most_similar(key, topn=TOP_N * 3):\n",
    "            if not same_word(similar_word, ommit_words):\n",
    "                words.append(similar_word)\n",
    "                embeddings.append(model_gn.wv[similar_word])\n",
    "                \n",
    "        if len(words) < TOP_N or len(embeddings) < TOP_N:\n",
    "            print(\"ERROR\")\n",
    "            \n",
    "        words = words[:TOP_N]\n",
    "        embeddings = embeddings[:TOP_N]\n",
    "        \n",
    "        embedding_clusters.append(embeddings)\n",
    "        word_clusters.append(words)\n",
    "        \n",
    "    return (word_clusters, embedding_clusters)"
   ]
  },
  {
   "cell_type": "code",
   "execution_count": 7,
   "metadata": {},
   "outputs": [],
   "source": [
    "def displayDF(word_clusters):\n",
    "    df = pd.DataFrame(dict(zip(FIXED_KEYS, word_clusters)))  \n",
    "    df.to_csv('outputs/offensiveV1.csv')\n",
    "    display(df)"
   ]
  },
  {
   "cell_type": "code",
   "execution_count": 8,
   "metadata": {},
   "outputs": [],
   "source": [
    "def plot_similar_words(title, labels, embedding_clusters, word_clusters, filename=None):\n",
    "    plt.figure(figsize=(16, 9))\n",
    "    colors = cm.rainbow(np.linspace(0, 1, len(labels)))\n",
    "    for label, embeddings, words, color in zip(labels, embedding_clusters, word_clusters, colors):\n",
    "        x = embeddings[:, 0]\n",
    "        y = embeddings[:, 1]\n",
    "        plt.scatter(x, y, c=color, alpha=0.7, label=label)\n",
    "        for i, word in enumerate(words):              \n",
    "            plt.annotate(label.upper(), alpha=1.0, xy=(mean(x), mean(y)), xytext=(0, 0),\n",
    "            textcoords='offset points', ha='center', va='center', size=15)\n",
    "    plt.legend(loc=0)\n",
    "    plt.title(title)\n",
    "    plt.grid(False)\n",
    "    if filename:\n",
    "        plt.savefig(filename, format='png', dpi=150, bbox_inches='tight')\n",
    "    plt.show()"
   ]
  },
  {
   "cell_type": "code",
   "execution_count": 9,
   "metadata": {},
   "outputs": [],
   "source": [
    "def plotTSNE(title, word_clusters, embedding_clusters,  filename = None):\n",
    "    perp = 15\n",
    "    embedding_clusters = np.array(embedding_clusters)\n",
    "    n, m, k = embedding_clusters.shape\n",
    "    model_en_2d = TSNE(perplexity=perp, n_components=2, init='pca', n_iter=3500, random_state=32)\n",
    "    model_en_2d = model_en_2d.fit_transform(embedding_clusters.reshape(n * m, k))\n",
    "    embeddings_en_2d = np.array(model_en_2d).reshape(n, m, 2)\n",
    "    plot_similar_words(title, FIXED_KEYS, embeddings_en_2d, word_clusters, filename)"
   ]
  },
  {
   "cell_type": "code",
   "execution_count": 10,
   "metadata": {},
   "outputs": [],
   "source": [
    "def plotMDS(title, word_clusters, embedding_clusters, filename = None):\n",
    "    embedding_clusters = np.array(embedding_clusters)\n",
    "    n, m, k = embedding_clusters.shape\n",
    "    model_en_2d = MDS(n_components=2, max_iter=3500, random_state=32)\n",
    "    model_en_2d = model_en_2d.fit_transform(embedding_clusters.reshape(n * m, k))\n",
    "    embeddings_en_2d = np.array(model_en_2d).reshape(n, m, 2)\n",
    "    plot_similar_words(title, FIXED_KEYS, embeddings_en_2d, word_clusters, filename)"
   ]
  },
  {
   "cell_type": "code",
   "execution_count": 11,
   "metadata": {},
   "outputs": [],
   "source": [
    "def plotPCA(title, word_clusters, embedding_clusters, filename = None):\n",
    "    embedding_clusters = np.array(embedding_clusters)\n",
    "    n, m, k = embedding_clusters.shape\n",
    "    model_en_2d = PCA(n_components=2, random_state = 32)\n",
    "    model_en_2d = model_en_2d.fit_transform(embedding_clusters.reshape(n * m, k))\n",
    "    embeddings_en_2d = np.array(model_en_2d).reshape(n, m, 2)\n",
    "    plot_similar_words(title, FIXED_KEYS, embeddings_en_2d, word_clusters, filename)\n",
    "    "
   ]
  },
  {
   "cell_type": "code",
   "execution_count": 12,
   "metadata": {},
   "outputs": [
    {
     "name": "stdout",
     "output_type": "stream",
     "text": [
      "{'comparison'} -- comparisons\n",
      "{'exagger', 'exaggeration'} -- exaggerated\n"
     ]
    },
    {
     "data": {
      "image/png": "[encoded data removed]",
      "text/plain": [
       "<Figure size 1152x648 with 1 Axes>"
      ]
     },
     "metadata": {
      "needs_background": "light"
     },
     "output_type": "display_data"
    }
   ],
   "source": [
    "model_gn = Word2Vec.load(\"outputs/w2v_50dim_model_v2\")\n",
    "listOfWords = FIXED_KEYS\n",
    "word_clusters, embedding_clusters = getSimilarWords(model_gn)\n",
    "plotTSNE(\"Similar words - Word2Vec [t-SNE]\", word_clusters, embedding_clusters, \"outputs/SimilarWords - word2vec - t-SNE.png\")"
   ]
  },
  {
   "cell_type": "code",
   "execution_count": 13,
   "metadata": {},
   "outputs": [],
   "source": [
    "def exprtWords(word,model):\n",
    "    res =  model.wv.most_similar(word, topn=30)\n",
    "    return [(word,x[0],x[1]) for x in res]\n",
    "   "
   ]
  },
  {
   "cell_type": "markdown",
   "metadata": {},
   "source": [
    "## Word2Vec\n",
    "\n",
    "Loading model"
   ]
  },
  {
   "cell_type": "code",
   "execution_count": 14,
   "metadata": {},
   "outputs": [],
   "source": [
    "import re\n",
    "def exportToCsv(name,dic):\n",
    "    with open('{}.csv'.format(name) , 'w', encoding='utf8') as w:\n",
    "        for k,x in dic.items():\n",
    "             w.write('{},{}\\n'.format(k,\",\".join(x)))\n",
    "\n",
    "def cleanKeywords(txt):\n",
    "    return re.sub(\"\\\\\\\\\",'',txt)\n",
    "#     return re.sub(\"[^a-zA-Z]\",'',txt)\n",
    "\n",
    "def filterCsvByKeywords(_df, keyWords, orig):\n",
    "    newDf = pd.DataFrame()\n",
    "    for K in keyWords:\n",
    "        keyWord = cleanKeywords(K)\n",
    "        #         res = _df[_df['text'].isin([keyWords])]\n",
    "        res = _df[_df['text'].str.contains(\" {} \".format(keyWord), na=False)]\n",
    "#         res = _df.filter(like= keyWord, axis=1)\n",
    "        res['relatedWord'] = keyWord\n",
    "\n",
    "        if newDf.empty:\n",
    "            newDf = res\n",
    "\n",
    "        else:\n",
    "            newDf = pd.concat([newDf,res])\n",
    "    newDf.to_csv('outputs/{}_examples.csv'.format(orig))\n"
   ]
  },
  {
   "cell_type": "markdown",
   "metadata": {},
   "source": [
    "Load models"
   ]
  },
  {
   "cell_type": "markdown",
   "metadata": {},
   "source": [
    "## build heatmap\n"
   ]
  },
  {
   "cell_type": "code",
   "execution_count": 15,
   "metadata": {},
   "outputs": [
    {
     "name": "stdout",
     "output_type": "stream",
     "text": [
      "8\n"
     ]
    }
   ],
   "source": [
    "##############################\n",
    "#  Module: utils.py\n",
    "#  Author: Shravan Kuchkula\n",
    "#  Date: 07/19/2019\n",
    "##############################\n",
    "\n",
    "from sklearn.feature_extraction.text import CountVectorizer, TfidfVectorizer\n",
    "import numpy as np\n",
    "import seaborn as sns\n",
    "import matplotlib.pyplot as plt\n",
    "\n",
    "def plot_heatmap(df_hm, xlabels, ylabels):\n",
    "    \"\"\"\n",
    "    Given a dataframe containing similarity grid, plot the heatmap\n",
    "    \"\"\"\n",
    "    sns.set(style=\"white\")\n",
    "\n",
    "    # Set up the matplotlib figure\n",
    "    # (to enlarge the cells, increase the figure size)\n",
    "    f, ax = plt.subplots(figsize=(18, 18))\n",
    "\n",
    "    # Generate a custom diverging colormap\n",
    "    cmap = sns.diverging_palette(220, 20, as_cmap=True)\n",
    "\n",
    "    # Generate a mask for the upper triangle\n",
    "    mask = np.zeros_like(df_hm, dtype=np.bool)\n",
    "    mask[np.triu_indices_from(mask)] = True\n",
    "    # Draw the heatmap with the mask and correct aspect ratio\n",
    "    sns.heatmap(df_hm, mask=mask, cmap=cmap, center=0.5,\n",
    "            xticklabels=xlabels, yticklabels=ylabels,\n",
    "            square=True, linewidths=.5, fmt='.2f',\n",
    "            annot=True, annot_kws={\"fontsize\":14}, cbar_kws={\"shrink\": .5}, vmax=1)\n",
    "    ax.set_xticklabels(ax.get_xticklabels(),fontsize =15)\n",
    "    ax.set_yticklabels(ax.get_yticklabels(),fontsize =15)\n",
    "\n",
    "    #     ax.set_xticklabels(ax.get_xticklabels(), rotation=60, ha='left')\n",
    "\n",
    "#     ax.set_title(\"Heatmap of cosine similarity scores\")\n",
    "    ax.set_xlabel(\"\")\n",
    "    ax.set_ylabel(\"\")\n",
    "\n",
    "    return ax\n",
    "\n",
    "\n",
    "def similartyHeatmapPairs(pairs,model):\n",
    "    '''return ((word1,word2),simScore)'''\n",
    "    return [(x,model.wv.similarity(*x)) for x in pairs]\n",
    "###################\n",
    "# model_gn = FastText.load(\"\")\n",
    "###################\n",
    "print(len(listOfWords))\n",
    "listOfWordsCombinations = list(combinations(listOfWords,2))\n",
    "\n",
    "def buildHeatmap(listCombinations,model_gn):\n",
    "    similartyHeatmapData = similartyHeatmapPairs(listCombinations,model_gn)\n",
    "\n",
    "    listOfWordsCombinationsDict = {x:k for k,x in enumerate(listOfWords)}\n",
    "\n",
    "    p,s = zip(*similartyHeatmapData)\n",
    "\n",
    "    df = pd.DataFrame({'pair': p, 'similarity': s})\n",
    "    df_tmp =[(listOfWordsCombinationsDict.get(k[0]),listOfWordsCombinationsDict.get(k[1]),v) for k ,v in similartyHeatmapData]\n",
    "    df_hm = pd.DataFrame({'ind': range(7), 'cols': range(7), 'vals': pd.Series(np.zeros(7))})\n",
    "\n",
    "    # convert to a matrix\n",
    "    df_hm = df_hm.pivot(index='ind', columns='cols').fillna(0)\n",
    "    # to get lower diagnol, swap the rows and cols.\n",
    "    for row, col, similarity in df_tmp:\n",
    "        df_hm.iloc[col, row] = similarity\n",
    "    ids = list(listOfWordsCombinationsDict.keys())\n",
    "    ax = plot_heatmap(df_hm, ids, ids)\n",
    "    "
   ]
  },
  {
   "cell_type": "code",
   "execution_count": 16,
   "metadata": {},
   "outputs": [],
   "source": [
    "# use model that support model.wv.similarity(word1,word2)\n",
    "#buildHeatmap(listOfWordsCombinations,model_gn)"
   ]
  },
  {
   "cell_type": "code",
   "execution_count": 17,
   "metadata": {},
   "outputs": [],
   "source": [
    "###################\n",
    "#model_ft = FastText.load(\"outputs/fastText_50dim_model_v2\")\n",
    "###################\n",
    "#buildHeatmap(listOfWordsCombinations,model_ft)"
   ]
  },
  {
   "cell_type": "markdown",
   "metadata": {},
   "source": [
    "Getting similar words. Printed out words are neighboring words that are ommited for the analysis."
   ]
  },
  {
   "cell_type": "code",
   "execution_count": 18,
   "metadata": {},
   "outputs": [],
   "source": [
    "#word_clusters, embedding_clusters = getSimilarWords(model_ft)\n",
    "\n"
   ]
  },
  {
   "cell_type": "code",
   "execution_count": 19,
   "metadata": {},
   "outputs": [],
   "source": [
    "#displayDF(word_clusters)"
   ]
  },
  {
   "cell_type": "code",
   "execution_count": 20,
   "metadata": {},
   "outputs": [],
   "source": [
    "#plotTSNE(\"Similar words - FastText [t-SNE]\", word_clusters, embedding_clusters, \"outputs/SimilarWords - fastText_50_v2 - t-SNE.png\")"
   ]
  },
  {
   "cell_type": "code",
   "execution_count": 21,
   "metadata": {},
   "outputs": [],
   "source": [
    "#plotMDS(\"Similar words - Word2Vec [MDS]\", word_clusters, embedding_clusters, \"outputs/SimilarWords - word2vec - MDS.png\")"
   ]
  },
  {
   "cell_type": "code",
   "execution_count": 22,
   "metadata": {},
   "outputs": [],
   "source": [
    "#plotPCA(\"Similar words - Word2Vec [PCA]\", word_clusters, embedding_clusters, \"outputs/SimilarWords - word2vec - PCA.png\")"
   ]
  },
  {
   "cell_type": "markdown",
   "metadata": {},
   "source": [
    "## fastText\n",
    "\n",
    "Loading model"
   ]
  },
  {
   "cell_type": "code",
   "execution_count": 23,
   "metadata": {},
   "outputs": [],
   "source": [
    "model_gn = FastText.load(\"outputs/fastText_50dim_model_v2\")"
   ]
  },
  {
   "cell_type": "code",
   "execution_count": 24,
   "metadata": {},
   "outputs": [],
   "source": [
    "#print(f\"Vocabulary size: {len(model_gn.vocab)}\")"
   ]
  },
  {
   "cell_type": "markdown",
   "metadata": {},
   "source": [
    "Getting similar words. Printed out words are neighboring words that are ommited for the analysis."
   ]
  },
  {
   "cell_type": "code",
   "execution_count": 25,
   "metadata": {},
   "outputs": [
    {
     "name": "stdout",
     "output_type": "stream",
     "text": [
      "{'metaphor'} -- metaphore\n",
      "{'metaphor'} -- metaphoric\n",
      "{'metaphor'} -- metaphorical\n",
      "{'metaphor'} -- metaphorically\n",
      "{'simil', 'simile'} -- facsimile\n",
      "{'simil', 'simile'} -- similacrum\n",
      "{'simil', 'simile'} -- similair\n",
      "{'simil', 'simile'} -- similitude\n",
      "{'simil', 'simile'} -- similarit\n",
      "{'simil', 'simile'} -- similie\n",
      "{'ironi', 'irony'} -- ironybro\n",
      "{'ironi', 'irony'} -- ironi\n",
      "{'ironi', 'irony'} -- ironist\n",
      "{'ironi', 'irony'} -- ironicly\n",
      "{'ironi', 'irony'} -- ironinkpen\n",
      "{'sarcasm'} -- sarcasms\n",
      "{'comparison'} -- comparison==\n",
      "{'comparison'} -- skiphirecomparison\n",
      "{'comparison'} -- comparisons\n",
      "{'understat', 'understatement'} -- understate\n"
     ]
    }
   ],
   "source": [
    "word_clusters, embedding_clusters = getSimilarWords(model_gn)"
   ]
  },
  {
   "cell_type": "code",
   "execution_count": 26,
   "metadata": {},
   "outputs": [
    {
     "data": {
      "text/html": [
       "<div>\n",
       "<style scoped>\n",
       "    .dataframe tbody tr th:only-of-type {\n",
       "        vertical-align: middle;\n",
       "    }\n",
       "\n",
       "    .dataframe tbody tr th {\n",
       "        vertical-align: top;\n",
       "    }\n",
       "\n",
       "    .dataframe thead th {\n",
       "        text-align: right;\n",
       "    }\n",
       "</style>\n",
       "<table border=\"1\" class=\"dataframe\">\n",
       "  <thead>\n",
       "    <tr style=\"text-align: right;\">\n",
       "      <th></th>\n",
       "      <th>metaphor</th>\n",
       "      <th>simile</th>\n",
       "      <th>irony</th>\n",
       "      <th>sarcasm</th>\n",
       "      <th>comparison</th>\n",
       "      <th>overstatement</th>\n",
       "      <th>understatement</th>\n",
       "      <th>exaggeration</th>\n",
       "    </tr>\n",
       "  </thead>\n",
       "  <tbody>\n",
       "    <tr>\n",
       "      <th>0</th>\n",
       "      <td>metamorphosis</td>\n",
       "      <td>lestrange</td>\n",
       "      <td>iron2</td>\n",
       "      <td>apologism</td>\n",
       "      <td>comparision</td>\n",
       "      <td>understatement</td>\n",
       "      <td>overstatement</td>\n",
       "      <td>exageration</td>\n",
       "    </tr>\n",
       "    <tr>\n",
       "      <th>1</th>\n",
       "      <td>metapcj</td>\n",
       "      <td>émile</td>\n",
       "      <td>ironfx</td>\n",
       "      <td>logicus</td>\n",
       "      <td>comparaison</td>\n",
       "      <td>misstatement</td>\n",
       "      <td>understandment</td>\n",
       "      <td>exagerration</td>\n",
       "    </tr>\n",
       "    <tr>\n",
       "      <th>2</th>\n",
       "      <td>metatlollacl</td>\n",
       "      <td>strangle</td>\n",
       "      <td>irongron</td>\n",
       "      <td>sarcastic</td>\n",
       "      <td>comparisson</td>\n",
       "      <td>mis-statement</td>\n",
       "      <td>misstatement</td>\n",
       "      <td>obliteration</td>\n",
       "    </tr>\n",
       "    <tr>\n",
       "      <th>3</th>\n",
       "      <td>metallicity</td>\n",
       "      <td>simialr</td>\n",
       "      <td>ironduke</td>\n",
       "      <td>misbehaviour</td>\n",
       "      <td>comparasion</td>\n",
       "      <td>pov-statement</td>\n",
       "      <td>mis-statement</td>\n",
       "      <td>absorbtion</td>\n",
       "    </tr>\n",
       "    <tr>\n",
       "      <th>4</th>\n",
       "      <td>sterotype</td>\n",
       "      <td>siliconangle</td>\n",
       "      <td>ironman</td>\n",
       "      <td>soph</td>\n",
       "      <td>comparisment</td>\n",
       "      <td>abatement</td>\n",
       "      <td>assumption</td>\n",
       "      <td>infixation</td>\n",
       "    </tr>\n",
       "    <tr>\n",
       "      <th>5</th>\n",
       "      <td>metairie</td>\n",
       "      <td>difuzarile</td>\n",
       "      <td>iron</td>\n",
       "      <td>misconstrude</td>\n",
       "      <td>comparission</td>\n",
       "      <td>incitement</td>\n",
       "      <td>interpretation</td>\n",
       "      <td>deflation</td>\n",
       "    </tr>\n",
       "    <tr>\n",
       "      <th>6</th>\n",
       "      <td>shemeta</td>\n",
       "      <td>varmint</td>\n",
       "      <td>crony</td>\n",
       "      <td>pruetrude</td>\n",
       "      <td>comparrison</td>\n",
       "      <td>restatement</td>\n",
       "      <td>understimate</td>\n",
       "      <td>provokation</td>\n",
       "    </tr>\n",
       "    <tr>\n",
       "      <th>7</th>\n",
       "      <td>symetis</td>\n",
       "      <td>mallus</td>\n",
       "      <td>ironboy</td>\n",
       "      <td>fauxffense</td>\n",
       "      <td>comparsion</td>\n",
       "      <td>assumption</td>\n",
       "      <td>acknowledgment</td>\n",
       "      <td>evisceration</td>\n",
       "    </tr>\n",
       "    <tr>\n",
       "      <th>8</th>\n",
       "      <td>metaverse</td>\n",
       "      <td>netrange</td>\n",
       "      <td>iron-clad</td>\n",
       "      <td>apolgism</td>\n",
       "      <td>comparation</td>\n",
       "      <td>excetement</td>\n",
       "      <td>interpretation==</td>\n",
       "      <td>divulgation</td>\n",
       "    </tr>\n",
       "    <tr>\n",
       "      <th>9</th>\n",
       "      <td>pseudovector</td>\n",
       "      <td>tensile</td>\n",
       "      <td>ironruby</td>\n",
       "      <td>misbehavior</td>\n",
       "      <td>compario</td>\n",
       "      <td>incomptence</td>\n",
       "      <td>acknowledgement</td>\n",
       "      <td>abbrevation</td>\n",
       "    </tr>\n",
       "    <tr>\n",
       "      <th>10</th>\n",
       "      <td>stereoscopic</td>\n",
       "      <td>pecple</td>\n",
       "      <td>ironfist</td>\n",
       "      <td>d'érotisme</td>\n",
       "      <td>confection</td>\n",
       "      <td>statement</td>\n",
       "      <td>pov-statement</td>\n",
       "      <td>aggravation</td>\n",
       "    </tr>\n",
       "    <tr>\n",
       "      <th>11</th>\n",
       "      <td>metis</td>\n",
       "      <td>mulitple</td>\n",
       "      <td>baldis</td>\n",
       "      <td>excuseme99</td>\n",
       "      <td>confectionery</td>\n",
       "      <td>misjudgement</td>\n",
       "      <td>assertion</td>\n",
       "      <td>abrogation</td>\n",
       "    </tr>\n",
       "    <tr>\n",
       "      <th>12</th>\n",
       "      <td>metamagician</td>\n",
       "      <td>*le</td>\n",
       "      <td>spideman</td>\n",
       "      <td>mishehu</td>\n",
       "      <td>correllation</td>\n",
       "      <td>vetement</td>\n",
       "      <td>interpretaion</td>\n",
       "      <td>exasperation</td>\n",
       "    </tr>\n",
       "    <tr>\n",
       "      <th>13</th>\n",
       "      <td>metaphysic</td>\n",
       "      <td>monotonous</td>\n",
       "      <td>ironsharpensiron</td>\n",
       "      <td>sarcasticidealist</td>\n",
       "      <td>distintion</td>\n",
       "      <td>completement</td>\n",
       "      <td>assertation</td>\n",
       "      <td>disseration</td>\n",
       "    </tr>\n",
       "    <tr>\n",
       "      <th>14</th>\n",
       "      <td>metamorphic</td>\n",
       "      <td>strane</td>\n",
       "      <td>iron-fist</td>\n",
       "      <td>urthogie</td>\n",
       "      <td>plot-element</td>\n",
       "      <td>abstention</td>\n",
       "      <td>inconvience</td>\n",
       "      <td>inquistion</td>\n",
       "    </tr>\n",
       "    <tr>\n",
       "      <th>15</th>\n",
       "      <td>metallic</td>\n",
       "      <td>tangent</td>\n",
       "      <td>tantrum</td>\n",
       "      <td>mishap</td>\n",
       "      <td>confinement</td>\n",
       "      <td>===statement</td>\n",
       "      <td>restatement</td>\n",
       "      <td>alliteration</td>\n",
       "    </tr>\n",
       "    <tr>\n",
       "      <th>16</th>\n",
       "      <td>synthesizer</td>\n",
       "      <td>rôle</td>\n",
       "      <td>brony</td>\n",
       "      <td>posad</td>\n",
       "      <td>contradistinction</td>\n",
       "      <td>consentement</td>\n",
       "      <td>misinterpretation</td>\n",
       "      <td>insulation</td>\n",
       "    </tr>\n",
       "    <tr>\n",
       "      <th>17</th>\n",
       "      <td>quadraphonic</td>\n",
       "      <td>litlle</td>\n",
       "      <td>pepperonis</td>\n",
       "      <td>excusez</td>\n",
       "      <td>correlation</td>\n",
       "      <td>presumption</td>\n",
       "      <td>statement</td>\n",
       "      <td>immagination</td>\n",
       "    </tr>\n",
       "    <tr>\n",
       "      <th>18</th>\n",
       "      <td>metathesis</td>\n",
       "      <td>nule</td>\n",
       "      <td>rony</td>\n",
       "      <td>offense</td>\n",
       "      <td>combination</td>\n",
       "      <td>reinstatement</td>\n",
       "      <td>re-interpretation</td>\n",
       "      <td>exhumation</td>\n",
       "    </tr>\n",
       "    <tr>\n",
       "      <th>19</th>\n",
       "      <td>aquaphor</td>\n",
       "      <td>vasile</td>\n",
       "      <td>sidis</td>\n",
       "      <td>apologistic</td>\n",
       "      <td>paracompact</td>\n",
       "      <td>agument</td>\n",
       "      <td>reinterpretation</td>\n",
       "      <td>adulteration</td>\n",
       "    </tr>\n",
       "    <tr>\n",
       "      <th>20</th>\n",
       "      <td>aplacophora</td>\n",
       "      <td>mesenchymal</td>\n",
       "      <td>baitul</td>\n",
       "      <td>uncivility</td>\n",
       "      <td>inferrence</td>\n",
       "      <td>arguement</td>\n",
       "      <td>reinstatement</td>\n",
       "      <td>invation</td>\n",
       "    </tr>\n",
       "    <tr>\n",
       "      <th>21</th>\n",
       "      <td>stereo</td>\n",
       "      <td>laetrile</td>\n",
       "      <td>iron_jackal_tw</td>\n",
       "      <td>rhobite</td>\n",
       "      <td>contraindistinction</td>\n",
       "      <td>agrument</td>\n",
       "      <td>misperception</td>\n",
       "      <td>oxidisation</td>\n",
       "    </tr>\n",
       "    <tr>\n",
       "      <th>22</th>\n",
       "      <td>grapheme</td>\n",
       "      <td>mle</td>\n",
       "      <td>fattard</td>\n",
       "      <td>calminsensehypn</td>\n",
       "      <td>interrelation</td>\n",
       "      <td>deception</td>\n",
       "      <td>abatement</td>\n",
       "      <td>extirpation</td>\n",
       "    </tr>\n",
       "    <tr>\n",
       "      <th>23</th>\n",
       "      <td>hematite</td>\n",
       "      <td>stranice</td>\n",
       "      <td>sheshatshiu</td>\n",
       "      <td>accusative</td>\n",
       "      <td>contraception</td>\n",
       "      <td>asertion</td>\n",
       "      <td>arguement</td>\n",
       "      <td>eradication</td>\n",
       "    </tr>\n",
       "    <tr>\n",
       "      <th>24</th>\n",
       "      <td>organometallic</td>\n",
       "      <td>subtle</td>\n",
       "      <td>irk</td>\n",
       "      <td>behavious</td>\n",
       "      <td>connery</td>\n",
       "      <td>assertion</td>\n",
       "      <td>implication</td>\n",
       "      <td>inflation</td>\n",
       "    </tr>\n",
       "    <tr>\n",
       "      <th>25</th>\n",
       "      <td>tapeworm</td>\n",
       "      <td>combatterli</td>\n",
       "      <td>st-denis</td>\n",
       "      <td>uncivilty</td>\n",
       "      <td>distillery</td>\n",
       "      <td>eception</td>\n",
       "      <td>misattribution</td>\n",
       "      <td>irritation</td>\n",
       "    </tr>\n",
       "    <tr>\n",
       "      <th>26</th>\n",
       "      <td>metanse</td>\n",
       "      <td>stranu</td>\n",
       "      <td>heptane</td>\n",
       "      <td>misou</td>\n",
       "      <td>comparisions</td>\n",
       "      <td>misjudgment</td>\n",
       "      <td>inconvinience</td>\n",
       "      <td>insinuation</td>\n",
       "    </tr>\n",
       "    <tr>\n",
       "      <th>27</th>\n",
       "      <td>typographer</td>\n",
       "      <td>simmilar</td>\n",
       "      <td>bronisław</td>\n",
       "      <td>logic2</td>\n",
       "      <td>distiction</td>\n",
       "      <td>misperception</td>\n",
       "      <td>realization</td>\n",
       "      <td>immagration</td>\n",
       "    </tr>\n",
       "    <tr>\n",
       "      <th>28</th>\n",
       "      <td>hymer​</td>\n",
       "      <td>interquartile</td>\n",
       "      <td>jabronis</td>\n",
       "      <td>apology</td>\n",
       "      <td>conniption</td>\n",
       "      <td>observation</td>\n",
       "      <td>misjudgement</td>\n",
       "      <td>emasculation</td>\n",
       "    </tr>\n",
       "    <tr>\n",
       "      <th>29</th>\n",
       "      <td>methyl</td>\n",
       "      <td>azle</td>\n",
       "      <td>shebad</td>\n",
       "      <td>misunderstandig</td>\n",
       "      <td>specualation</td>\n",
       "      <td>justanobservation</td>\n",
       "      <td>dissertation</td>\n",
       "      <td>excution</td>\n",
       "    </tr>\n",
       "  </tbody>\n",
       "</table>\n",
       "</div>"
      ],
      "text/plain": [
       "          metaphor         simile             irony            sarcasm  \\\n",
       "0    metamorphosis      lestrange             iron2          apologism   \n",
       "1          metapcj          émile            ironfx            logicus   \n",
       "2     metatlollacl       strangle          irongron          sarcastic   \n",
       "3      metallicity        simialr          ironduke       misbehaviour   \n",
       "4        sterotype   siliconangle           ironman               soph   \n",
       "5         metairie     difuzarile              iron       misconstrude   \n",
       "6          shemeta        varmint             crony          pruetrude   \n",
       "7          symetis         mallus           ironboy         fauxffense   \n",
       "8        metaverse       netrange         iron-clad           apolgism   \n",
       "9     pseudovector        tensile          ironruby        misbehavior   \n",
       "10    stereoscopic         pecple          ironfist         d'érotisme   \n",
       "11           metis       mulitple            baldis         excuseme99   \n",
       "12    metamagician            *le          spideman            mishehu   \n",
       "13      metaphysic     monotonous  ironsharpensiron  sarcasticidealist   \n",
       "14     metamorphic         strane         iron-fist           urthogie   \n",
       "15        metallic        tangent           tantrum             mishap   \n",
       "16     synthesizer           rôle             brony              posad   \n",
       "17    quadraphonic         litlle        pepperonis            excusez   \n",
       "18      metathesis           nule              rony            offense   \n",
       "19        aquaphor         vasile             sidis        apologistic   \n",
       "20     aplacophora    mesenchymal            baitul         uncivility   \n",
       "21          stereo       laetrile    iron_jackal_tw            rhobite   \n",
       "22        grapheme            mle           fattard    calminsensehypn   \n",
       "23        hematite       stranice       sheshatshiu         accusative   \n",
       "24  organometallic         subtle               irk          behavious   \n",
       "25        tapeworm    combatterli          st-denis          uncivilty   \n",
       "26         metanse         stranu           heptane              misou   \n",
       "27     typographer       simmilar         bronisław             logic2   \n",
       "28          hymer​  interquartile          jabronis            apology   \n",
       "29          methyl           azle            shebad    misunderstandig   \n",
       "\n",
       "             comparison      overstatement     understatement  exaggeration  \n",
       "0           comparision     understatement      overstatement   exageration  \n",
       "1           comparaison       misstatement     understandment  exagerration  \n",
       "2           comparisson      mis-statement       misstatement  obliteration  \n",
       "3           comparasion      pov-statement      mis-statement    absorbtion  \n",
       "4          comparisment          abatement         assumption    infixation  \n",
       "5          comparission         incitement     interpretation     deflation  \n",
       "6           comparrison        restatement       understimate   provokation  \n",
       "7            comparsion         assumption     acknowledgment  evisceration  \n",
       "8           comparation         excetement   interpretation==   divulgation  \n",
       "9              compario        incomptence    acknowledgement   abbrevation  \n",
       "10           confection          statement      pov-statement   aggravation  \n",
       "11        confectionery       misjudgement          assertion    abrogation  \n",
       "12         correllation           vetement      interpretaion  exasperation  \n",
       "13           distintion       completement        assertation   disseration  \n",
       "14         plot-element         abstention        inconvience    inquistion  \n",
       "15          confinement       ===statement        restatement  alliteration  \n",
       "16    contradistinction       consentement  misinterpretation    insulation  \n",
       "17          correlation        presumption          statement  immagination  \n",
       "18          combination      reinstatement  re-interpretation    exhumation  \n",
       "19          paracompact            agument   reinterpretation  adulteration  \n",
       "20           inferrence          arguement      reinstatement      invation  \n",
       "21  contraindistinction           agrument      misperception   oxidisation  \n",
       "22        interrelation          deception          abatement   extirpation  \n",
       "23        contraception           asertion          arguement   eradication  \n",
       "24              connery          assertion        implication     inflation  \n",
       "25           distillery           eception     misattribution    irritation  \n",
       "26         comparisions        misjudgment      inconvinience   insinuation  \n",
       "27           distiction      misperception        realization   immagration  \n",
       "28           conniption        observation       misjudgement  emasculation  \n",
       "29         specualation  justanobservation       dissertation      excution  "
      ]
     },
     "metadata": {},
     "output_type": "display_data"
    }
   ],
   "source": [
    "displayDF(word_clusters)"
   ]
  },
  {
   "cell_type": "code",
   "execution_count": 27,
   "metadata": {},
   "outputs": [
    {
     "data": {
      "image/png": "[encoded data removed]",
      "text/plain": [
       "<Figure size 1152x648 with 1 Axes>"
      ]
     },
     "metadata": {
      "needs_background": "light"
     },
     "output_type": "display_data"
    }
   ],
   "source": [
    "plotTSNE(\"Similar words - fastText [t-SNE]\", word_clusters, embedding_clusters, \"outputs/SimilarWords - fastText - t-SNE.png\")"
   ]
  },
  {
   "cell_type": "code",
   "execution_count": 28,
   "metadata": {},
   "outputs": [],
   "source": [
    "#plotMDS(\"Similar words - fastText [MDS]\", word_clusters, embedding_clusters, \"outputs/SimilarWords - fastText - MDS.png\")"
   ]
  },
  {
   "cell_type": "code",
   "execution_count": 29,
   "metadata": {},
   "outputs": [],
   "source": [
    "#plotPCA(\"Similar words - fastText [PCA]\", word_clusters, embedding_clusters, \"outputs/SimilarWords - fastText - PCA.png\")"
   ]
  },
  {
   "cell_type": "code",
   "execution_count": null,
   "metadata": {},
   "outputs": [],
   "source": []
  },
  {
   "cell_type": "code",
   "execution_count": null,
   "metadata": {},
   "outputs": [],
   "source": []
  }
 ],
 "metadata": {
  "interpreter": {
   "hash": "6fa48241555dd6574f80adc4b257cccd8c253aedd249236aba361b71bc201e96"
  },
  "kernelspec": {
   "display_name": "Python [conda env:offensive-language-organization]",
   "language": "python",
   "name": "conda-env-offensive-language-organization-py"
  },
  "language_info": {
   "codemirror_mode": {
    "name": "ipython",
    "version": 3
   },
   "file_extension": ".py",
   "mimetype": "text/x-python",
   "name": "python",
   "nbconvert_exporter": "python",
   "pygments_lexer": "ipython3",
   "version": "3.6.13"
  }
 },
 "nbformat": 4,
 "nbformat_minor": 4
}
