{
    "cells": [
        {
            "cell_type": "code",
            "execution_count": null,
            "source": [
                "import requests\n",
                "import os\n",
                "import json\n",
                "\"\"\"\n",
                "Script was modified for our use from the original source: https://github.com/twitterdev/Twitter-API-v2-sample-code/blob/master/Tweet-Lookup/get_tweets_with_bearer_token.py\n",
                "\n",
                "In order for this script to work, one should replace <your_bearer_token> in auth function with their own private Twitter API bearer token.\n",
                "\"\"\"\n"
            ],
            "outputs": [],
            "metadata": {}
        },
        {
            "cell_type": "code",
            "execution_count": null,
            "source": [
                "\n",
                "def auth():\n",
                "    return \"<your_bearer_token>\"\n",
                "\n",
                "\n",
                "def create_url(tweet_id):\n",
                "    url = \"https://api.twitter.com/2/tweets?ids={}&tweet.fields=text\".format(tweet_id)\n",
                "    return url\n",
                "\n",
                "\n",
                "def create_headers(bearer_token):\n",
                "    headers = {\"Authorization\": \"Bearer {}\".format(bearer_token)}\n",
                "    return headers\n",
                "\n",
                "\n",
                "def connect_to_endpoint(url, headers):\n",
                "    response = requests.request(\"GET\", url, headers=headers)\n",
                "    if response.status_code != 200:\n",
                "        raise Exception(\n",
                "            \"Request returned an error: {} {}\".format(\n",
                "                response.status_code, response.text\n",
                "            )\n",
                "        )\n",
                "    return response.json()\n",
                "\n",
                "\n",
                "def get_tweet_text(tweet_id):\n",
                "    bearer_token = auth()\n",
                "    url = create_url(tweet_id)\n",
                "    headers = create_headers(bearer_token)\n",
                "    json_response = connect_to_endpoint(url, headers)\n",
                "    if \"data\" not in json_response:\n",
                "        return \"ERROR: no tweet\" \n",
                "    return (json_response[\"data\"][0][\"text\"])\n"
            ],
            "outputs": [],
            "metadata": {}
        },
        {
            "cell_type": "code",
            "execution_count": null,
            "source": [
                "\n",
                "print(get_tweet_text(839630739335495681))"
            ],
            "outputs": [],
            "metadata": {}
        }
    ],
    "metadata": {
        "orig_nbformat": 4,
        "language_info": {
            "name": "python"
        }
    },
    "nbformat": 4,
    "nbformat_minor": 2
}